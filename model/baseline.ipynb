{
 "cells": [
  {
   "cell_type": "code",
   "id": "initial_id",
   "metadata": {
    "collapsed": true,
    "ExecuteTime": {
     "end_time": "2024-07-03T22:50:10.281748Z",
     "start_time": "2024-07-03T22:50:10.249758Z"
    }
   },
   "source": [
    "import json\n",
    "\n",
    "# Read the GPT-4o file\n",
    "with open('gpt4o', 'r') as file:\n",
    "    gpt4o_content = file.read()\n",
    "\n",
    "# Split the content by line breaks\n",
    "gpt4o_lines = gpt4o_content.split('\\n')\n",
    "\n",
    "# Read the JSON file\n",
    "with open('../dataset/transcriptions.json', 'r') as file:\n",
    "    json_content = json.load(file)\n",
    "\n",
    "# Get the first n objects where n is the length of gpt4o_lines\n",
    "json_objects = json_content[:len(gpt4o_lines)]\n",
    "\n",
    "# Get the 'text' property of these objects\n",
    "text_properties = [obj['text'] for obj in json_objects]"
   ],
   "outputs": [],
   "execution_count": 1
  },
  {
   "metadata": {
    "ExecuteTime": {
     "end_time": "2024-07-03T22:51:36.954057Z",
     "start_time": "2024-07-03T22:51:36.899138Z"
    }
   },
   "cell_type": "code",
   "source": [
    "from Metrics import Calculate_CER, Calculate_WER\n",
    "\n",
    "wer = Calculate_WER(text_properties, gpt4o_lines)\n",
    "cer = Calculate_CER(text_properties, gpt4o_lines)\n",
    "\n",
    "(wer, cer)"
   ],
   "id": "8534150869d67904",
   "outputs": [
    {
     "data": {
      "text/plain": [
       "(0.20463320463320464, 0.05995864920744314)"
      ]
     },
     "execution_count": 2,
     "metadata": {},
     "output_type": "execute_result"
    }
   ],
   "execution_count": 2
  },
  {
   "metadata": {},
   "cell_type": "code",
   "outputs": [],
   "execution_count": null,
   "source": "",
   "id": "91ed084e22f8a76e"
  }
 ],
 "metadata": {
  "kernelspec": {
   "display_name": "Python 3",
   "language": "python",
   "name": "python3"
  },
  "language_info": {
   "codemirror_mode": {
    "name": "ipython",
    "version": 2
   },
   "file_extension": ".py",
   "mimetype": "text/x-python",
   "name": "python",
   "nbconvert_exporter": "python",
   "pygments_lexer": "ipython2",
   "version": "2.7.6"
  }
 },
 "nbformat": 4,
 "nbformat_minor": 5
}
